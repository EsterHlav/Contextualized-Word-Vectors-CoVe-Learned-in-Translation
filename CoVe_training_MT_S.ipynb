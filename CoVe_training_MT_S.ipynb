{
 "cells": [
  {
   "cell_type": "code",
   "execution_count": 1,
   "metadata": {},
   "outputs": [
    {
     "data": {
      "text/html": [
       "<style>\n",
       ".container {\n",
       "        width: 100%;\n",
       "        padding: 0px !important;\n",
       "    }\n",
       "\n",
       "@media (max-width:1200px) {\n",
       "    #notebook[tabindex=\"-1\"] {\n",
       "        padding-top: 0px !important;\n",
       "    }\n",
       "    .prompt {\n",
       "        min-width: 8ex;\n",
       "    }\n",
       "    .input_prompt {\n",
       "        font-weight: bold;\n",
       "        position: absolute;\n",
       "        padding-right: 0px;\n",
       "        padding-top: 2px;\n",
       "        padding-bottom: 0px;\n",
       "        padding-left: 8px;\n",
       "        font-size: 10px !important;\n",
       "    }\n",
       "    .CodeMirror-lines {\n",
       "        padding-top:12px !important;\n",
       "    }\n",
       "    pre {\n",
       "        white-space: pre-wrap !important;\n",
       "    }\n",
       "}    \n"
      ],
      "text/plain": [
       "<IPython.core.display.HTML object>"
      ]
     },
     "metadata": {},
     "output_type": "display_data"
    }
   ],
   "source": [
    "%%html\n",
    "<style>\n",
    ".container {\n",
    "        width: 100%;\n",
    "        padding: 0px !important;\n",
    "    }\n",
    "\n",
    "@media (max-width:1200px) {\n",
    "    #notebook[tabindex=\"-1\"] {\n",
    "        padding-top: 0px !important;\n",
    "    }\n",
    "    .prompt {\n",
    "        min-width: 8ex;\n",
    "    }\n",
    "    .input_prompt {\n",
    "        font-weight: bold;\n",
    "        position: absolute;\n",
    "        padding-right: 0px;\n",
    "        padding-top: 2px;\n",
    "        padding-bottom: 0px;\n",
    "        padding-left: 8px;\n",
    "        font-size: 10px !important;\n",
    "    }\n",
    "    .CodeMirror-lines {\n",
    "        padding-top:12px !important;\n",
    "    }\n",
    "    pre {\n",
    "        white-space: pre-wrap !important;\n",
    "    }\n",
    "}    "
   ]
  },
  {
   "cell_type": "markdown",
   "metadata": {},
   "source": [
    "## Imports and set params experiments"
   ]
  },
  {
   "cell_type": "code",
   "execution_count": 2,
   "metadata": {},
   "outputs": [
    {
     "name": "stderr",
     "output_type": "stream",
     "text": [
      "/Users/i692122/anaconda3/envs/tf_1_8/lib/python3.6/site-packages/tensorflow/python/framework/dtypes.py:519: FutureWarning: Passing (type, 1) or '1type' as a synonym of type is deprecated; in a future version of numpy, it will be understood as (type, (1,)) / '(1,)type'.\n",
      "  _np_qint8 = np.dtype([(\"qint8\", np.int8, 1)])\n",
      "/Users/i692122/anaconda3/envs/tf_1_8/lib/python3.6/site-packages/tensorflow/python/framework/dtypes.py:520: FutureWarning: Passing (type, 1) or '1type' as a synonym of type is deprecated; in a future version of numpy, it will be understood as (type, (1,)) / '(1,)type'.\n",
      "  _np_quint8 = np.dtype([(\"quint8\", np.uint8, 1)])\n",
      "/Users/i692122/anaconda3/envs/tf_1_8/lib/python3.6/site-packages/tensorflow/python/framework/dtypes.py:521: FutureWarning: Passing (type, 1) or '1type' as a synonym of type is deprecated; in a future version of numpy, it will be understood as (type, (1,)) / '(1,)type'.\n",
      "  _np_qint16 = np.dtype([(\"qint16\", np.int16, 1)])\n",
      "/Users/i692122/anaconda3/envs/tf_1_8/lib/python3.6/site-packages/tensorflow/python/framework/dtypes.py:522: FutureWarning: Passing (type, 1) or '1type' as a synonym of type is deprecated; in a future version of numpy, it will be understood as (type, (1,)) / '(1,)type'.\n",
      "  _np_quint16 = np.dtype([(\"quint16\", np.uint16, 1)])\n",
      "/Users/i692122/anaconda3/envs/tf_1_8/lib/python3.6/site-packages/tensorflow/python/framework/dtypes.py:523: FutureWarning: Passing (type, 1) or '1type' as a synonym of type is deprecated; in a future version of numpy, it will be understood as (type, (1,)) / '(1,)type'.\n",
      "  _np_qint32 = np.dtype([(\"qint32\", np.int32, 1)])\n",
      "/Users/i692122/anaconda3/envs/tf_1_8/lib/python3.6/site-packages/tensorflow/python/framework/dtypes.py:528: FutureWarning: Passing (type, 1) or '1type' as a synonym of type is deprecated; in a future version of numpy, it will be understood as (type, (1,)) / '(1,)type'.\n",
      "  np_resource = np.dtype([(\"resource\", np.ubyte, 1)])\n"
     ]
    },
    {
     "data": {
      "text/plain": [
       "'1.8.0'"
      ]
     },
     "execution_count": 2,
     "metadata": {},
     "output_type": "execute_result"
    }
   ],
   "source": [
    "%load_ext autoreload\n",
    "%autoreload 2\n",
    "\n",
    "import numpy as np\n",
    "import os, re, sys\n",
    "import tensorflow as tf\n",
    "import tqdm\n",
    "from itertools import compress\n",
    "import pickle\n",
    "from preprocessing import *\n",
    "import glob\n",
    "\n",
    "tf.__version__"
   ]
  },
  {
   "cell_type": "markdown",
   "metadata": {},
   "source": [
    "##  Data preprocessing"
   ]
  },
  {
   "cell_type": "code",
   "execution_count": 3,
   "metadata": {},
   "outputs": [
    {
     "data": {
      "text/plain": [
       "['train.de', 'train.en', 'val.en', 'test.en', 'test.de', 'val.de']"
      ]
     },
     "execution_count": 3,
     "metadata": {},
     "output_type": "execute_result"
    }
   ],
   "source": [
    "path= 'data/multi30k/'\n",
    "os.listdir(path)"
   ]
  },
  {
   "cell_type": "markdown",
   "metadata": {},
   "source": [
    "### Run preprocessing IWSLT16"
   ]
  },
  {
   "cell_type": "code",
   "execution_count": 4,
   "metadata": {},
   "outputs": [
    {
     "name": "stdout",
     "output_type": "stream",
     "text": [
      "Loading the preprocessed data...\n",
      "Done loading the preprocessed data!\n"
     ]
    }
   ],
   "source": [
    "# path multi30k\n",
    "p = os.path.join('data','multi30k')\n",
    "\n",
    "# dict of paths\n",
    "dict_srcl_tgtl_path_multi30k = {\n",
    "                       'train': {\n",
    "                           'src': os.path.join(p, 'train.en'), 'tgt': os.path.join(p, 'train.de')\n",
    "                           },\\\n",
    "                       'val': {\n",
    "                           'src': os.path.join(p, 'val.en'), 'tgt': os.path.join(p, 'val.de')\n",
    "                           },\\\n",
    "                       'test': {\n",
    "                           'src': os.path.join(p, 'test.en'), 'tgt': os.path.join(p, 'test.de')\n",
    "                           }\n",
    "                      }\n",
    "# -> for preprocessing\n",
    "path_save = 'data/saved_preprocess/multi30k'\n",
    "# -> to load preprocessing\n",
    "# path_save = 'data/saved_preprocess/multi30k_20000_50_glove_charemb.p'\n",
    "\n",
    "\n",
    "if path_save.split('.')[-1] != 'p':\n",
    "    # preprocess data...\n",
    "    Preprocess_multi30K = PreprocessorMT(dict_srcl_tgtl_path_multi30k,\\\n",
    "                     path_save=path_save,\\\n",
    "                     max_vocab_src=20000, max_vocab_tgt=20000, max_seq_length=50,\\\n",
    "                     glove_path='data/GloVe/glove.840B.300d.txt',\\\n",
    "                     charemb_path='data/kazuma/charNgram.txt')\n",
    "\n",
    "    Preprocess_multi30K.process_and_save()\n",
    "else:\n",
    "    # or load preprocessed file\n",
    "    print ('Loading the preprocessed data...')\n",
    "    Preprocess_multi30K = pickle.load(open(path_save, 'rb'))\n",
    "    print ('Done loading the preprocessed data!')"
   ]
  },
  {
   "cell_type": "code",
   "execution_count": 5,
   "metadata": {},
   "outputs": [
    {
     "name": "stdout",
     "output_type": "stream",
     "text": [
      "Size of set train: 4750\n",
      "Size of set val: 148\n",
      "Size of set test: 181\n"
     ]
    }
   ],
   "source": [
    "for mode in ['train', 'val', 'test']:\n",
    "    print (\"Size of set {}: {}\".format(mode, Preprocess_multi30K.get_length_set(mode)))"
   ]
  },
  {
   "cell_type": "markdown",
   "metadata": {},
   "source": [
    "## Modelling"
   ]
  },
  {
   "cell_type": "code",
   "execution_count": 6,
   "metadata": {},
   "outputs": [],
   "source": [
    "from NMT import *\n",
    "dataset_MT = dataset(Preprocess_multi30K)\n",
    "\n",
    "default_params = {\n",
    "    'dataset': None,\n",
    "    'save_path': '',\n",
    "    'mode': 'TRAIN',\n",
    "    'nb_layers_enc': None,\n",
    "    'nb_layers_dec': None,\n",
    "    'embedding_dim': 300,\n",
    "    'train_emb_src': True,\n",
    "    'init_emb': None,\n",
    "    'lstm_size_enc': 600,\n",
    "    'lstm_size_dec': 600,\n",
    "    'nb_layers_enc': 2,\n",
    "    'nb_layers_dec': 2,\n",
    "    'keep_probability': 0.8,\n",
    "    'batch_size': 64,\n",
    "    'epochs': 20,\n",
    "    'EOS': \"</s>\",\n",
    "    'SOS': \"<s>\",\n",
    "    'PAD': '<pad>',\n",
    "    'clip': 5,\n",
    "    'lr': 0.001,\n",
    "    'lr_decay': 0.9,\n",
    "    'lr_decay_steps': 100,\n",
    "    'print_update': 25,\n",
    "    'patience': 8\n",
    "}"
   ]
  },
  {
   "cell_type": "markdown",
   "metadata": {},
   "source": [
    "### Start training of seq2seq model"
   ]
  },
  {
   "cell_type": "code",
   "execution_count": 7,
   "metadata": {},
   "outputs": [
    {
     "name": "stdout",
     "output_type": "stream",
     "text": [
      "Graph of model is built.\n",
      "---------\n",
      "Variables: name (type shape) [size]\n",
      "---------\n",
      "src_embedding:0 (float32_ref 3023x400) [1209200, bytes: 4836800]\n",
      "tgt_embedding:0 (float32_ref 3819x400) [1527600, bytes: 6110400]\n",
      "dynamic_seq2seq/encoder/bidirectional_rnn/fw/lstm_cell/kernel:0 (float32_ref 700x1200) [840000, bytes: 3360000]\n",
      "dynamic_seq2seq/encoder/bidirectional_rnn/fw/lstm_cell/bias:0 (float32_ref 1200) [1200, bytes: 4800]\n",
      "dynamic_seq2seq/encoder/bidirectional_rnn/bw/lstm_cell/kernel:0 (float32_ref 700x1200) [840000, bytes: 3360000]\n",
      "dynamic_seq2seq/encoder/bidirectional_rnn/bw/lstm_cell/bias:0 (float32_ref 1200) [1200, bytes: 4800]\n",
      "dynamic_seq2seq/decoder/memory_layer/kernel:0 (float32_ref 600x600) [360000, bytes: 1440000]\n",
      "dynamic_seq2seq/decoder/attention_wrapper/multi_rnn_cell/cell_0/lstm_cell/kernel:0 (float32_ref 1600x2400) [3840000, bytes: 15360000]\n",
      "dynamic_seq2seq/decoder/attention_wrapper/multi_rnn_cell/cell_0/lstm_cell/bias:0 (float32_ref 2400) [2400, bytes: 9600]\n",
      "dynamic_seq2seq/decoder/attention_wrapper/multi_rnn_cell/cell_1/lstm_cell/kernel:0 (float32_ref 1200x2400) [2880000, bytes: 11520000]\n",
      "dynamic_seq2seq/decoder/attention_wrapper/multi_rnn_cell/cell_1/lstm_cell/bias:0 (float32_ref 2400) [2400, bytes: 9600]\n",
      "dynamic_seq2seq/decoder/output_projection/kernel:0 (float32_ref 600x3819) [2291400, bytes: 9165600]\n",
      "dynamic_seq2seq/decoder/output_projection/bias:0 (float32_ref 3819) [3819, bytes: 15276]\n",
      "Total size of variables: 13799219\n",
      "Total bytes of variables: 55196876\n"
     ]
    }
   ],
   "source": [
    "reset_graph()\n",
    "\n",
    "train_params = default_params\n",
    "train_params['dataset'] = dataset_MT\n",
    "train_params['lstm_size_enc'] = 600\n",
    "train_params['lstm_size_dec'] = 600\n",
    "train_params['nb_layers_enc'] = 2\n",
    "train_params['nb_layers_dec'] = 2\n",
    "train_params['embedding_dim'] = 400 # because GLoVe+charemb\n",
    "train_params['init_emb'] = np.vstack(list(map(lambda i: dataset_MT.data.vocab_src.embeddings[dataset_MT.data.vocab_src.idx2lab[i]], np.arange(dataset_MT.data.vocab_src.size)))).astype(np.float32)\n",
    "train_params['batch_size'] = 256\n",
    "train_params['epochs'] = 1\n",
    "train_params['mode'] = 'TRAIN' \n",
    "train_params['save_path'] = 'save_run/MT_S/run1'\n",
    "\n",
    "nmt  =  NMT(train_params)\n",
    "  \n",
    "nmt.build_model()\n",
    "\n",
    "model_summary()"
   ]
  },
  {
   "cell_type": "code",
   "execution_count": 8,
   "metadata": {
    "scrolled": true
   },
   "outputs": [
    {
     "name": "stdout",
     "output_type": "stream",
     "text": [
      "-------------------- Epoch 0 of 1 --------------------\n",
      "Iteration: 0 of 17\ttrain_loss: 8.2484\n"
     ]
    },
    {
     "name": "stderr",
     "output_type": "stream",
     "text": [
      "/Users/i692122/anaconda3/envs/tf_1_8/lib/python3.6/site-packages/nltk/translate/bleu_score.py:523: UserWarning: \n",
      "The hypothesis contains 0 counts of 2-gram overlaps.\n",
      "Therefore the BLEU score evaluates to 0, independently of\n",
      "how many N-gram overlaps of lower order it contains.\n",
      "Consider using lower n-gram order or use SmoothingFunction()\n",
      "  warnings.warn(_msg)\n",
      "/Users/i692122/anaconda3/envs/tf_1_8/lib/python3.6/site-packages/nltk/translate/bleu_score.py:523: UserWarning: \n",
      "The hypothesis contains 0 counts of 3-gram overlaps.\n",
      "Therefore the BLEU score evaluates to 0, independently of\n",
      "how many N-gram overlaps of lower order it contains.\n",
      "Consider using lower n-gram order or use SmoothingFunction()\n",
      "  warnings.warn(_msg)\n",
      "/Users/i692122/anaconda3/envs/tf_1_8/lib/python3.6/site-packages/nltk/translate/bleu_score.py:523: UserWarning: \n",
      "The hypothesis contains 0 counts of 4-gram overlaps.\n",
      "Therefore the BLEU score evaluates to 0, independently of\n",
      "how many N-gram overlaps of lower order it contains.\n",
      "Consider using lower n-gram order or use SmoothingFunction()\n",
      "  warnings.warn(_msg)\n"
     ]
    },
    {
     "name": "stdout",
     "output_type": "stream",
     "text": [
      "Overall BLEU-4 on 256 sentences: 0.0000\n",
      "----------------------------------------\n",
      "Example n°1:\n",
      "\n",
      "Src sentence:  a man practices boxing <pad> <pad> <pad> <pad> <pad> <pad> <pad> <pad> <pad> <pad> <pad> <pad> <pad> <pad> <pad> <pad> <pad> <pad> <pad> <pad> <pad> <pad> <pad> <pad> <pad> <pad> <pad> <pad> <pad> <pad> <pad> <pad> <pad> <pad> <pad> <pad> <pad> <pad> <pad> <pad> <pad> <pad> <pad> <pad> <pad> <pad>\n",
      "Tgt sentence:  <s> ein mann <unk> </s> <pad> <pad> <pad> <pad> <pad> <pad> <pad> <pad> <pad> <pad> <pad> <pad> <pad> <pad> <pad> <pad> <pad> <pad> <pad> <pad> <pad> <pad> <pad> <pad> <pad> <pad> <pad> <pad> <pad> <pad> <pad> <pad> <pad> <pad> <pad> <pad> <pad> <pad> <pad> <pad> <pad> <pad> <pad> <pad> <pad> <pad> <pad>\n",
      "Tgt predicted: <s> <s> <s> . . <pad> <pad> <pad> <pad> <pad> <pad> <pad> <pad>\n",
      "Bleu score:    0\n",
      "----------------------------------------\n",
      "Example n°2:\n",
      "\n",
      "Src sentence:  a man and two children crossing a street . <pad> <pad> <pad> <pad> <pad> <pad> <pad> <pad> <pad> <pad> <pad> <pad> <pad> <pad> <pad> <pad> <pad> <pad> <pad> <pad> <pad> <pad> <pad> <pad> <pad> <pad> <pad> <pad> <pad> <pad> <pad> <pad> <pad> <pad> <pad> <pad> <pad> <pad> <pad> <pad> <pad>\n",
      "Tgt sentence:  <s> ein mann und zwei kinder überqueren eine straße . </s> <pad> <pad> <pad> <pad> <pad> <pad> <pad> <pad> <pad> <pad> <pad> <pad> <pad> <pad> <pad> <pad> <pad> <pad> <pad> <pad> <pad> <pad> <pad> <pad> <pad> <pad> <pad> <pad> <pad> <pad> <pad> <pad> <pad> <pad> <pad> <pad> <pad> <pad> <pad> <pad> <pad>\n",
      "Tgt predicted: <s> <s> <s> . . . . . . . </s> <pad> <pad>\n",
      "Bleu score:    0.0\n",
      "Iteration: 17 of 17\ttrain_loss: 4.4366\n",
      "Overall BLEU-4 on 256 sentences: 0.0000\n",
      "----------------------------------------\n",
      "Example n°1:\n",
      "\n",
      "Src sentence:  a young woman is making <unk> in the rain forest <pad> <pad> <pad> <pad> <pad> <pad> <pad> <pad> <pad> <pad> <pad> <pad> <pad> <pad> <pad> <pad> <pad> <pad> <pad> <pad> <pad> <pad> <pad> <pad> <pad> <pad> <pad> <pad> <pad> <pad> <pad> <pad> <pad> <pad> <pad> <pad> <pad> <pad> <pad> <pad>\n",
      "Tgt sentence:  <s> eine junge frau fertigt im <unk> <unk> an </s> <pad> <pad> <pad> <pad> <pad> <pad> <pad> <pad> <pad> <pad> <pad> <pad> <pad> <pad> <pad> <pad> <pad> <pad> <pad> <pad> <pad> <pad> <pad> <pad> <pad> <pad> <pad> <pad> <pad> <pad> <pad> <pad> <pad> <pad> <pad> <pad> <pad> <pad> <pad> <pad> <pad> <pad>\n",
      "Tgt predicted: <s> ein ein ein ein . . . . </s> <pad> <pad> <pad>\n",
      "Bleu score:    0\n",
      "----------------------------------------\n",
      "Example n°2:\n",
      "\n",
      "Src sentence:  two men smoking outside of a park . <pad> <pad> <pad> <pad> <pad> <pad> <pad> <pad> <pad> <pad> <pad> <pad> <pad> <pad> <pad> <pad> <pad> <pad> <pad> <pad> <pad> <pad> <pad> <pad> <pad> <pad> <pad> <pad> <pad> <pad> <pad> <pad> <pad> <pad> <pad> <pad> <pad> <pad> <pad> <pad> <pad> <pad>\n",
      "Tgt sentence:  <s> zwei männer rauchen außerhalb eines <unk> . </s> <pad> <pad> <pad> <pad> <pad> <pad> <pad> <pad> <pad> <pad> <pad> <pad> <pad> <pad> <pad> <pad> <pad> <pad> <pad> <pad> <pad> <pad> <pad> <pad> <pad> <pad> <pad> <pad> <pad> <pad> <pad> <pad> <pad> <pad> <pad> <pad> <pad> <pad> <pad> <pad> <pad> <pad> <pad>\n",
      "Tgt predicted: <s> ein ein ein auf . . . </s> <pad> <pad> <pad> <pad>\n",
      "Bleu score:    0.0\n",
      "Average epoch score: 5.3727216720581055\n",
      "--- new best score ---\n",
      "\n",
      "\n",
      "-------------------- Epoch 1 of 1 --------------------\n",
      "Iteration: 0 of 17\ttrain_loss: 4.3021\n",
      "Overall BLEU-4 on 256 sentences: 0.0000\n",
      "----------------------------------------\n",
      "Example n°1:\n",
      "\n",
      "Src sentence:  a young girl is swimming in a pool . <pad> <pad> <pad> <pad> <pad> <pad> <pad> <pad> <pad> <pad> <pad> <pad> <pad> <pad> <pad> <pad> <pad> <pad> <pad> <pad> <pad> <pad> <pad> <pad> <pad> <pad> <pad> <pad> <pad> <pad> <pad> <pad> <pad> <pad> <pad> <pad> <pad> <pad> <pad> <pad> <pad>\n",
      "Tgt sentence:  <s> ein kleines mädchen schwimmt in einem pool . </s> <pad> <pad> <pad> <pad> <pad> <pad> <pad> <pad> <pad> <pad> <pad> <pad> <pad> <pad> <pad> <pad> <pad> <pad> <pad> <pad> <pad> <pad> <pad> <pad> <pad> <pad> <pad> <pad> <pad> <pad> <pad> <pad> <pad> <pad> <pad> <pad> <pad> <pad> <pad> <pad> <pad> <pad>\n",
      "Tgt predicted: <s> ein ein ein in . . . . </s> <pad> <pad> <pad>\n",
      "Bleu score:    0.0\n",
      "----------------------------------------\n",
      "Example n°2:\n",
      "\n",
      "Src sentence:  three large dogs enjoy a <unk> in the snow . <pad> <pad> <pad> <pad> <pad> <pad> <pad> <pad> <pad> <pad> <pad> <pad> <pad> <pad> <pad> <pad> <pad> <pad> <pad> <pad> <pad> <pad> <pad> <pad> <pad> <pad> <pad> <pad> <pad> <pad> <pad> <pad> <pad> <pad> <pad> <pad> <pad> <pad> <pad> <pad>\n",
      "Tgt sentence:  <s> drei große hunde genießen das tollen im schnee . </s> <pad> <pad> <pad> <pad> <pad> <pad> <pad> <pad> <pad> <pad> <pad> <pad> <pad> <pad> <pad> <pad> <pad> <pad> <pad> <pad> <pad> <pad> <pad> <pad> <pad> <pad> <pad> <pad> <pad> <pad> <pad> <pad> <pad> <pad> <pad> <pad> <pad> <pad> <pad> <pad> <pad>\n",
      "Tgt predicted: <s> ein ein ein in . . . . </s> </s> <pad> <pad>\n",
      "Bleu score:    0.0\n",
      "Iteration: 17 of 17\ttrain_loss: 4.1549\n",
      "Overall BLEU-4 on 256 sentences: 0.0000\n",
      "----------------------------------------\n",
      "Example n°1:\n",
      "\n",
      "Src sentence:  a man in a gray t-shirt <unk> . <pad> <pad> <pad> <pad> <pad> <pad> <pad> <pad> <pad> <pad> <pad> <pad> <pad> <pad> <pad> <pad> <pad> <pad> <pad> <pad> <pad> <pad> <pad> <pad> <pad> <pad> <pad> <pad> <pad> <pad> <pad> <pad> <pad> <pad> <pad> <pad> <pad> <pad> <pad> <pad> <pad> <pad>\n",
      "Tgt sentence:  <s> ein mann in einem grauen t-shirt ruht sich aus . </s> <pad> <pad> <pad> <pad> <pad> <pad> <pad> <pad> <pad> <pad> <pad> <pad> <pad> <pad> <pad> <pad> <pad> <pad> <pad> <pad> <pad> <pad> <pad> <pad> <pad> <pad> <pad> <pad> <pad> <pad> <pad> <pad> <pad> <pad> <pad> <pad> <pad> <pad> <pad> <pad>\n",
      "Tgt predicted: <s> ein ein mann auf einem . . </s> </s> </s> </s> <pad>\n",
      "Bleu score:    0.0\n",
      "----------------------------------------\n",
      "Example n°2:\n",
      "\n",
      "Src sentence:  a man and woman sleeping on a bench . <pad> <pad> <pad> <pad> <pad> <pad> <pad> <pad> <pad> <pad> <pad> <pad> <pad> <pad> <pad> <pad> <pad> <pad> <pad> <pad> <pad> <pad> <pad> <pad> <pad> <pad> <pad> <pad> <pad> <pad> <pad> <pad> <pad> <pad> <pad> <pad> <pad> <pad> <pad> <pad> <pad>\n",
      "Tgt sentence:  <s> ein mann und eine frau schlafen auf einer bank . </s> <pad> <pad> <pad> <pad> <pad> <pad> <pad> <pad> <pad> <pad> <pad> <pad> <pad> <pad> <pad> <pad> <pad> <pad> <pad> <pad> <pad> <pad> <pad> <pad> <pad> <pad> <pad> <pad> <pad> <pad> <pad> <pad> <pad> <pad> <pad> <pad> <pad> <pad> <pad> <pad>\n",
      "Tgt predicted: <s> ein ein mann in einem einem . . </s> </s> </s> <pad>\n",
      "Bleu score:    0.0\n",
      "Average epoch score: 4.197977066040039\n",
      "--- new best score ---\n",
      "\n",
      "\n"
     ]
    }
   ],
   "source": [
    "nmt.train(save=True, print_nb=2, print_bleu=100)"
   ]
  },
  {
   "cell_type": "markdown",
   "metadata": {},
   "source": [
    "### Inference"
   ]
  },
  {
   "cell_type": "markdown",
   "metadata": {},
   "source": [
    "##### Inference on training set (2048 samples)"
   ]
  },
  {
   "cell_type": "code",
   "execution_count": 9,
   "metadata": {},
   "outputs": [
    {
     "name": "stdout",
     "output_type": "stream",
     "text": [
      "Graph of model is built.\n",
      "---------\n",
      "Variables: name (type shape) [size]\n",
      "---------\n",
      "src_embedding:0 (float32_ref 3023x400) [1209200, bytes: 4836800]\n",
      "tgt_embedding:0 (float32_ref 3819x400) [1527600, bytes: 6110400]\n",
      "dynamic_seq2seq/encoder/bidirectional_rnn/fw/lstm_cell/kernel:0 (float32_ref 700x1200) [840000, bytes: 3360000]\n",
      "dynamic_seq2seq/encoder/bidirectional_rnn/fw/lstm_cell/bias:0 (float32_ref 1200) [1200, bytes: 4800]\n",
      "dynamic_seq2seq/encoder/bidirectional_rnn/bw/lstm_cell/kernel:0 (float32_ref 700x1200) [840000, bytes: 3360000]\n",
      "dynamic_seq2seq/encoder/bidirectional_rnn/bw/lstm_cell/bias:0 (float32_ref 1200) [1200, bytes: 4800]\n",
      "dynamic_seq2seq/decoder/memory_layer/kernel:0 (float32_ref 600x600) [360000, bytes: 1440000]\n",
      "dynamic_seq2seq/decoder/attention_wrapper/multi_rnn_cell/cell_0/lstm_cell/kernel:0 (float32_ref 1600x2400) [3840000, bytes: 15360000]\n",
      "dynamic_seq2seq/decoder/attention_wrapper/multi_rnn_cell/cell_0/lstm_cell/bias:0 (float32_ref 2400) [2400, bytes: 9600]\n",
      "dynamic_seq2seq/decoder/attention_wrapper/multi_rnn_cell/cell_1/lstm_cell/kernel:0 (float32_ref 1200x2400) [2880000, bytes: 11520000]\n",
      "dynamic_seq2seq/decoder/attention_wrapper/multi_rnn_cell/cell_1/lstm_cell/bias:0 (float32_ref 2400) [2400, bytes: 9600]\n",
      "dynamic_seq2seq/decoder/output_projection/kernel:0 (float32_ref 600x3819) [2291400, bytes: 9165600]\n",
      "dynamic_seq2seq/decoder/output_projection/bias:0 (float32_ref 3819) [3819, bytes: 15276]\n",
      "Total size of variables: 13799219\n",
      "Total bytes of variables: 55196876\n",
      "Restore graph from save_run/MT_S/run1\n",
      "INFO:tensorflow:Restoring parameters from save_run/MT_S/run1\n",
      "Graph restored!\n"
     ]
    }
   ],
   "source": [
    "reset_graph()\n",
    "\n",
    "infer_params = default_params\n",
    "infer_params['dataset'] = dataset_MT\n",
    "infer_params['lstm_size_enc'] = 600\n",
    "infer_params['lstm_size_dec'] = 600\n",
    "infer_params['nb_layers_enc'] = 2\n",
    "infer_params['nb_layers_dec'] = 2\n",
    "infer_params['embedding_dim'] = 400 # because GLoVe+charemb\n",
    "infer_params['init_emb'] = np.vstack(list(map(lambda i: dataset_MT.data.vocab_src.embeddings[dataset_MT.data.vocab_src.idx2lab[i]],\\\n",
    "                                              np.arange(dataset_MT.data.vocab_src.size)))).astype(np.float32)\n",
    "infer_params['batch_size'] = 2048\n",
    "infer_params['mode'] = 'INFER' \n",
    "infer_params['save_path'] = 'save_run/MT_S/run1'\n",
    "\n",
    "nmt_infer  =  NMT(infer_params)\n",
    "  \n",
    "nmt_infer.build_model()\n",
    "\n",
    "model_summary()\n",
    "\n",
    "idx = np.random.choice(dataset_MT.data.get_length_set('train'), 2048)\n",
    "preds = nmt_infer.infer(dataset_MT.data.data_tok['train'], idx, restore_path = infer_params['save_path'])"
   ]
  },
  {
   "cell_type": "code",
   "execution_count": 10,
   "metadata": {
    "scrolled": false
   },
   "outputs": [
    {
     "name": "stdout",
     "output_type": "stream",
     "text": [
      "Overall BLEU-4 on 2048 sentences: 0.0184\n",
      "------------------------------------------------------------\n",
      "Example n°1:\n",
      "\n",
      "Src sentence:  four boys run away up an incline .\n",
      "Tgt sentence:  vier jungen rennen einen hang hinauf davon .\n",
      "Tgt predicted: <s> ein ein in einem einem . . </s> </s> </s> </s>\n",
      "Bleu score:    0.0\n",
      "------------------------------------------------------------\n",
      "Example n°2:\n",
      "\n",
      "Src sentence:  four women interact at a conference .\n",
      "Tgt sentence:  vier frauen interagieren auf einer konferenz .\n",
      "Tgt predicted: <s> ein mann in einem . . </s> </s> </s> </s> </s>\n",
      "Bleu score:    0.0\n",
      "------------------------------------------------------------\n",
      "Example n°3:\n",
      "\n",
      "Src sentence:  a woman in a dress doing a craft .\n",
      "Tgt sentence:  eine frau in einem kleid bastelt etwas .\n",
      "Tgt predicted: <s> ein ein mann in einem einem . . </s> </s> </s>\n",
      "Bleu score:    0.0\n",
      "------------------------------------------------------------\n",
      "Example n°4:\n",
      "\n",
      "Src sentence:  men are sitting on bags on the ground .\n",
      "Tgt sentence:  männer sitzen auf ihren taschen auf dem boden .\n",
      "Tgt predicted: <s> ein ein in auf einem . . </s> </s> </s> </s>\n",
      "Bleu score:    0.0\n",
      "------------------------------------------------------------\n",
      "Example n°5:\n",
      "\n",
      "Src sentence:  an asian boy is leaning against a pole .\n",
      "Tgt sentence:  ein asiatischer junge lehnt gegen einen pfosten .\n",
      "Tgt predicted: <s> ein ein mann in einem . . . </s> </s> </s>\n",
      "Bleu score:    0.0\n",
      "------------------------------------------------------------\n",
      "Example n°6:\n",
      "\n",
      "Src sentence:  children playing leapfrog beside fountain .\n",
      "Tgt sentence:  kinder spielen neben einer fontäne bockspringen .\n",
      "Tgt predicted: <s> ein mann in . . </s> </s> </s> </s> </s> </s>\n",
      "Bleu score:    0.0\n",
      "------------------------------------------------------------\n",
      "Example n°7:\n",
      "\n",
      "Src sentence:  a group of cats sit in the grass .\n",
      "Tgt sentence:  viele katzen sitzen im gras .\n",
      "Tgt predicted: <s> ein ein in auf einem . . . </s> </s> </s>\n",
      "Bleu score:    0.0\n",
      "------------------------------------------------------------\n",
      "Example n°8:\n",
      "\n",
      "Src sentence:  a small baby dress in yellow smiles .\n",
      "Tgt sentence:  ein kleines baby in einem gelben kleid lächelt .\n",
      "Tgt predicted: <s> ein ein mann auf einem . . </s> </s> </s> </s>\n",
      "Bleu score:    0.0\n",
      "------------------------------------------------------------\n",
      "Example n°9:\n",
      "\n",
      "Src sentence:  a lady being arrested by a lady cop .\n",
      "Tgt sentence:  eine frau wird von einer polizistin verhaftet .\n",
      "Tgt predicted: <s> ein ein mann auf einem . . . </s> </s> </s>\n",
      "Bleu score:    0.0\n",
      "------------------------------------------------------------\n",
      "Example n°10:\n",
      "\n",
      "Src sentence:  man with gray shirt with a white name badge .\n",
      "Tgt sentence:  mann mit grauem hemd und weißem namensschild .\n",
      "Tgt predicted: <s> ein ein mann in einem einem . . </s> </s> </s>\n",
      "Bleu score:    0.0\n",
      "------------------------------------------------------------\n",
      "Example n°11:\n",
      "\n",
      "Src sentence:  man playing a brown and white electric guitar .\n",
      "Tgt sentence:  ein mann spielt eine braune und weiße e-gitarre .\n",
      "Tgt predicted: <s> ein ein mann auf einem . . . </s> </s> </s>\n",
      "Bleu score:    0.0\n",
      "------------------------------------------------------------\n",
      "Example n°12:\n",
      "\n",
      "Src sentence:  a white cat sits on a wall .\n",
      "Tgt sentence:  eine weiße katze sitzt auf einer mauer .\n",
      "Tgt predicted: <s> ein ein mann auf einem . . . </s> </s> </s>\n",
      "Bleu score:    0.0\n",
      "------------------------------------------------------------\n",
      "Example n°13:\n",
      "\n",
      "Src sentence:  a girl is laughing while sitting on a couch .\n",
      "Tgt sentence:  ein mädchen sitzt lachend auf einem sofa .\n",
      "Tgt predicted: <s> ein ein mann in einem einem . . . </s> </s>\n",
      "Bleu score:    0.0\n",
      "------------------------------------------------------------\n",
      "Example n°14:\n",
      "\n",
      "Src sentence:  a woman on a bike racing .\n",
      "Tgt sentence:  eine frau fährt ein radrennen .\n",
      "Tgt predicted: <s> ein ein in einem einem . . </s> </s> </s> </s>\n",
      "Bleu score:    0.0\n",
      "------------------------------------------------------------\n",
      "Example n°15:\n",
      "\n",
      "Src sentence:  two boys cutting some meat .\n",
      "Tgt sentence:  zwei jungen schneiden fleisch .\n",
      "Tgt predicted: <s> ein mann in einem . . </s> </s> </s> </s> </s>\n",
      "Bleu score:    0.0\n",
      "------------------------------------------------------------\n"
     ]
    }
   ],
   "source": [
    "BLEU_set(dataset_MT, idx, preds, 'train', samples=15)"
   ]
  },
  {
   "cell_type": "markdown",
   "metadata": {},
   "source": [
    "#### Inference on validation set"
   ]
  },
  {
   "cell_type": "code",
   "execution_count": 11,
   "metadata": {
    "scrolled": false
   },
   "outputs": [
    {
     "name": "stdout",
     "output_type": "stream",
     "text": [
      "Graph of model is built.\n",
      "---------\n",
      "Variables: name (type shape) [size]\n",
      "---------\n",
      "src_embedding:0 (float32_ref 3023x400) [1209200, bytes: 4836800]\n",
      "tgt_embedding:0 (float32_ref 3819x400) [1527600, bytes: 6110400]\n",
      "dynamic_seq2seq/encoder/bidirectional_rnn/fw/lstm_cell/kernel:0 (float32_ref 700x1200) [840000, bytes: 3360000]\n",
      "dynamic_seq2seq/encoder/bidirectional_rnn/fw/lstm_cell/bias:0 (float32_ref 1200) [1200, bytes: 4800]\n",
      "dynamic_seq2seq/encoder/bidirectional_rnn/bw/lstm_cell/kernel:0 (float32_ref 700x1200) [840000, bytes: 3360000]\n",
      "dynamic_seq2seq/encoder/bidirectional_rnn/bw/lstm_cell/bias:0 (float32_ref 1200) [1200, bytes: 4800]\n",
      "dynamic_seq2seq/decoder/memory_layer/kernel:0 (float32_ref 600x600) [360000, bytes: 1440000]\n",
      "dynamic_seq2seq/decoder/attention_wrapper/multi_rnn_cell/cell_0/lstm_cell/kernel:0 (float32_ref 1600x2400) [3840000, bytes: 15360000]\n",
      "dynamic_seq2seq/decoder/attention_wrapper/multi_rnn_cell/cell_0/lstm_cell/bias:0 (float32_ref 2400) [2400, bytes: 9600]\n",
      "dynamic_seq2seq/decoder/attention_wrapper/multi_rnn_cell/cell_1/lstm_cell/kernel:0 (float32_ref 1200x2400) [2880000, bytes: 11520000]\n",
      "dynamic_seq2seq/decoder/attention_wrapper/multi_rnn_cell/cell_1/lstm_cell/bias:0 (float32_ref 2400) [2400, bytes: 9600]\n",
      "dynamic_seq2seq/decoder/output_projection/kernel:0 (float32_ref 600x3819) [2291400, bytes: 9165600]\n",
      "dynamic_seq2seq/decoder/output_projection/bias:0 (float32_ref 3819) [3819, bytes: 15276]\n",
      "Total size of variables: 13799219\n",
      "Total bytes of variables: 55196876\n",
      "Restore graph from save_run/MT_S/run1\n",
      "INFO:tensorflow:Restoring parameters from save_run/MT_S/run1\n",
      "Graph restored!\n"
     ]
    }
   ],
   "source": [
    "reset_graph()\n",
    "\n",
    "infer_params = default_params\n",
    "infer_params['dataset'] = dataset_MT\n",
    "infer_params['lstm_size_enc'] = 600\n",
    "infer_params['lstm_size_dec'] = 600\n",
    "infer_params['nb_layers_enc'] = 2\n",
    "infer_params['nb_layers_dec'] = 2\n",
    "infer_params['embedding_dim'] = 400 # because GLoVe+charemb\n",
    "infer_params['init_emb'] = np.vstack(list(map(lambda i: dataset_MT.data.vocab_src.embeddings[dataset_MT.data.vocab_src.idx2lab[i]],\\\n",
    "                                              np.arange(dataset_MT.data.vocab_src.size)))).astype(np.float32)\n",
    "infer_params['batch_size'] = dataset_MT.data.get_length_set('val')\n",
    "infer_params['mode'] = 'INFER' \n",
    "infer_params['save_path'] = 'save_run/MT_S/run1'\n",
    "\n",
    "nmt_infer  =  NMT(infer_params)\n",
    "  \n",
    "nmt_infer.build_model()\n",
    "\n",
    "model_summary()\n",
    "\n",
    "idx = np.arange(dataset_MT.data.get_length_set('val')) # predict whole set at once\n",
    "preds = nmt_infer.infer(dataset_MT.data.data_tok['val'], idx, restore_path = infer_params['save_path'])"
   ]
  },
  {
   "cell_type": "code",
   "execution_count": 12,
   "metadata": {
    "scrolled": false
   },
   "outputs": [
    {
     "name": "stdout",
     "output_type": "stream",
     "text": [
      "Overall BLEU-4 on 148 sentences: 0.0162\n",
      "------------------------------------------------------------\n",
      "Example n°1:\n",
      "\n",
      "Src sentence:  a man in a cluttered office is using the telephone\n",
      "Tgt sentence:  ein mann telefoniert in einem unaufgeräumten büro\n",
      "Tgt predicted: <s> ein ein mann in einem einem . . </s> </s>\n",
      "Bleu score:    0.0\n",
      "------------------------------------------------------------\n",
      "Example n°2:\n",
      "\n",
      "Src sentence:  a female playing a song on her violin .\n",
      "Tgt sentence:  eine frau spielt ein lied auf ihrer geige .\n",
      "Tgt predicted: <s> ein ein mann in einem . . . </s> </s>\n",
      "Bleu score:    0.0\n",
      "------------------------------------------------------------\n",
      "Example n°3:\n",
      "\n",
      "Src sentence:  a young woman is making rugs in the rain forest\n",
      "Tgt sentence:  eine junge frau fertigt im regenwald teppiche an\n",
      "Tgt predicted: <s> ein ein mann in einem einem . . </s> </s>\n",
      "Bleu score:    0\n",
      "------------------------------------------------------------\n",
      "Example n°4:\n",
      "\n",
      "Src sentence:  a cute baby is smiling at another child .\n",
      "Tgt sentence:  ein süßes baby lächelt einem anderen kind zu .\n",
      "Tgt predicted: <s> ein ein mann in einem . . . </s> </s>\n",
      "Bleu score:    0.0\n",
      "------------------------------------------------------------\n",
      "Example n°5:\n",
      "\n",
      "Src sentence:  three men are walking on a road in the mountains .\n",
      "Tgt sentence:  drei männer gehen auf einer straße in den bergen .\n",
      "Tgt predicted: <s> ein ein mann in einem einem . . </s> </s>\n",
      "Bleu score:    0.0\n",
      "------------------------------------------------------------\n",
      "Example n°6:\n",
      "\n",
      "Src sentence:  a young girl running by herself in a park .\n",
      "Tgt sentence:  ein junges mädchen läuft allein durch einen park .\n",
      "Tgt predicted: <s> ein ein mann in einem einem . . </s> </s>\n",
      "Bleu score:    0.0\n",
      "------------------------------------------------------------\n",
      "Example n°7:\n",
      "\n",
      "Src sentence:  a woman sits at a dark bar .\n",
      "Tgt sentence:  eine frau sitzt an einer dunklen bar .\n",
      "Tgt predicted: <s> ein ein mann auf einem . . </s> </s> </s>\n",
      "Bleu score:    0.0\n",
      "------------------------------------------------------------\n",
      "Example n°8:\n",
      "\n",
      "Src sentence:  a man drives an old-fashioned red race car .\n",
      "Tgt sentence:  ein mann fährt ein altmodisches rotes rennauto .\n",
      "Tgt predicted: <s> ein ein mann auf einem einem . . </s> </s>\n",
      "Bleu score:    0.0\n",
      "------------------------------------------------------------\n",
      "Example n°9:\n",
      "\n",
      "Src sentence:  three small dogs sniff at something .\n",
      "Tgt sentence:  drei kleine hunde schnüffeln an etwas .\n",
      "Tgt predicted: <s> ein ein in einem . . . </s> </s> </s>\n",
      "Bleu score:    0.0\n",
      "------------------------------------------------------------\n",
      "Example n°10:\n",
      "\n",
      "Src sentence:  two girls walking down the street .\n",
      "Tgt sentence:  zwei mädchen gehen eine straße entlang .\n",
      "Tgt predicted: <s> ein mann in einem . . . </s> </s> </s>\n",
      "Bleu score:    0.0\n",
      "------------------------------------------------------------\n",
      "Example n°11:\n",
      "\n",
      "Src sentence:  a man in a restaurant having lunch .\n",
      "Tgt sentence:  ein mann isst in einem restaurant zu mittag .\n",
      "Tgt predicted: <s> ein ein mann in einem . . </s> </s> </s>\n",
      "Bleu score:    0.0\n",
      "------------------------------------------------------------\n",
      "Example n°12:\n",
      "\n",
      "Src sentence:  three women smiling and sitting down .\n",
      "Tgt sentence:  drei frauen sitzen da und lächeln .\n",
      "Tgt predicted: <s> ein mann in einem . . . </s> </s> </s>\n",
      "Bleu score:    0.0\n",
      "------------------------------------------------------------\n",
      "Example n°13:\n",
      "\n",
      "Src sentence:  a man and woman fishing at the beach .\n",
      "Tgt sentence:  ein mann und eine frau fischen am strand .\n",
      "Tgt predicted: <s> ein ein mann auf einem . . . </s> </s>\n",
      "Bleu score:    0.0\n",
      "------------------------------------------------------------\n",
      "Example n°14:\n",
      "\n",
      "Src sentence:  kids are riding a swinging carnival ride\n",
      "Tgt sentence:  kinder fahren in einem kettenkarussell\n",
      "Tgt predicted: <s> ein ein in einem . . </s> </s> </s> </s>\n",
      "Bleu score:    0.0\n",
      "------------------------------------------------------------\n",
      "Example n°15:\n",
      "\n",
      "Src sentence:  two men in the military are playing baseball .\n",
      "Tgt sentence:  zwei männer beim militär spielen baseball .\n",
      "Tgt predicted: <s> ein ein in auf einem . . </s> </s> </s>\n",
      "Bleu score:    0.0\n",
      "------------------------------------------------------------\n"
     ]
    }
   ],
   "source": [
    "BLEU_set(dataset_MT, idx, preds, 'val', samples=15)"
   ]
  },
  {
   "cell_type": "markdown",
   "metadata": {},
   "source": [
    "#### Inference on test set"
   ]
  },
  {
   "cell_type": "code",
   "execution_count": 13,
   "metadata": {},
   "outputs": [
    {
     "name": "stdout",
     "output_type": "stream",
     "text": [
      "Graph of model is built.\n",
      "---------\n",
      "Variables: name (type shape) [size]\n",
      "---------\n",
      "src_embedding:0 (float32_ref 3023x400) [1209200, bytes: 4836800]\n",
      "tgt_embedding:0 (float32_ref 3819x400) [1527600, bytes: 6110400]\n",
      "dynamic_seq2seq/encoder/bidirectional_rnn/fw/lstm_cell/kernel:0 (float32_ref 700x1200) [840000, bytes: 3360000]\n",
      "dynamic_seq2seq/encoder/bidirectional_rnn/fw/lstm_cell/bias:0 (float32_ref 1200) [1200, bytes: 4800]\n",
      "dynamic_seq2seq/encoder/bidirectional_rnn/bw/lstm_cell/kernel:0 (float32_ref 700x1200) [840000, bytes: 3360000]\n",
      "dynamic_seq2seq/encoder/bidirectional_rnn/bw/lstm_cell/bias:0 (float32_ref 1200) [1200, bytes: 4800]\n",
      "dynamic_seq2seq/decoder/memory_layer/kernel:0 (float32_ref 600x600) [360000, bytes: 1440000]\n",
      "dynamic_seq2seq/decoder/attention_wrapper/multi_rnn_cell/cell_0/lstm_cell/kernel:0 (float32_ref 1600x2400) [3840000, bytes: 15360000]\n",
      "dynamic_seq2seq/decoder/attention_wrapper/multi_rnn_cell/cell_0/lstm_cell/bias:0 (float32_ref 2400) [2400, bytes: 9600]\n",
      "dynamic_seq2seq/decoder/attention_wrapper/multi_rnn_cell/cell_1/lstm_cell/kernel:0 (float32_ref 1200x2400) [2880000, bytes: 11520000]\n",
      "dynamic_seq2seq/decoder/attention_wrapper/multi_rnn_cell/cell_1/lstm_cell/bias:0 (float32_ref 2400) [2400, bytes: 9600]\n",
      "dynamic_seq2seq/decoder/output_projection/kernel:0 (float32_ref 600x3819) [2291400, bytes: 9165600]\n",
      "dynamic_seq2seq/decoder/output_projection/bias:0 (float32_ref 3819) [3819, bytes: 15276]\n",
      "Total size of variables: 13799219\n",
      "Total bytes of variables: 55196876\n"
     ]
    }
   ],
   "source": [
    "reset_graph()\n",
    "\n",
    "infer_params = default_params\n",
    "infer_params['dataset'] = dataset_MT\n",
    "infer_params['lstm_size_enc'] = 600\n",
    "infer_params['lstm_size_dec'] = 600\n",
    "infer_params['nb_layers_enc'] = 2\n",
    "infer_params['nb_layers_dec'] = 2\n",
    "infer_params['embedding_dim'] = 400 # because GLoVe+charemb\n",
    "infer_params['init_emb'] = np.vstack(list(map(lambda i: dataset_MT.data.vocab_src.embeddings[dataset_MT.data.vocab_src.idx2lab[i]],\\\n",
    "                                              np.arange(dataset_MT.data.vocab_src.size)))).astype(np.float32)\n",
    "infer_params['batch_size'] = dataset_MT.data.get_length_set('test')\n",
    "infer_params['mode'] = 'INFER' \n",
    "infer_params['save_path'] = 'save_run/MT_S/run1'\n",
    "\n",
    "nmt_infer  =  NMT(infer_params)\n",
    "  \n",
    "nmt_infer.build_model()\n",
    "\n",
    "model_summary()"
   ]
  },
  {
   "cell_type": "code",
   "execution_count": 14,
   "metadata": {},
   "outputs": [
    {
     "name": "stdout",
     "output_type": "stream",
     "text": [
      "Restore graph from save_run/MT_S/run1\n",
      "INFO:tensorflow:Restoring parameters from save_run/MT_S/run1\n",
      "Graph restored!\n"
     ]
    }
   ],
   "source": [
    "idx = np.arange(dataset_MT.data.get_length_set('test')) # predict whole set at once\n",
    "preds = nmt_infer.infer(dataset_MT.data.data_tok['test'], idx, restore_path = infer_params['save_path'])"
   ]
  },
  {
   "cell_type": "code",
   "execution_count": 15,
   "metadata": {
    "scrolled": false
   },
   "outputs": [
    {
     "name": "stdout",
     "output_type": "stream",
     "text": [
      "Overall BLEU-4 on 181 sentences: 0.0143\n",
      "------------------------------------------------------------\n",
      "Example n°1:\n",
      "\n",
      "Src sentence:  people are fixing the roof of a house .\n",
      "Tgt sentence:  leute reparieren das dach eines hauses .\n",
      "Tgt predicted: <s> ein mann in auf einem . . </s> </s> </s>\n",
      "Bleu score:    0.0\n",
      "------------------------------------------------------------\n",
      "Example n°2:\n",
      "\n",
      "Src sentence:  a group of people standing in front of an igloo .\n",
      "Tgt sentence:  eine gruppe von menschen steht vor einem iglu .\n",
      "Tgt predicted: <s> ein ein mann auf einem einem . . . </s>\n",
      "Bleu score:    0.0\n",
      "------------------------------------------------------------\n",
      "Example n°3:\n",
      "\n",
      "Src sentence:  a guy works on a building .\n",
      "Tgt sentence:  ein typ arbeitet an einem gebäude .\n",
      "Tgt predicted: <s> ein mann in einem einem . . </s> </s> </s>\n",
      "Bleu score:    0.0\n",
      "------------------------------------------------------------\n",
      "Example n°4:\n",
      "\n",
      "Src sentence:  three people sit in a cave .\n",
      "Tgt sentence:  drei leute sitzen in einer höhle .\n",
      "Tgt predicted: <s> ein mann in einem . . </s> </s> </s> </s>\n",
      "Bleu score:    0.0\n",
      "------------------------------------------------------------\n",
      "Example n°5:\n",
      "\n",
      "Src sentence:  people standing outside of a building .\n",
      "Tgt sentence:  leute , die vor einem gebäude stehen .\n",
      "Tgt predicted: <s> ein mann in einem . . </s> </s> </s> </s>\n",
      "Bleu score:    0.0\n",
      "------------------------------------------------------------\n",
      "Example n°6:\n",
      "\n",
      "Src sentence:  a man cutting branches of trees .\n",
      "Tgt sentence:  ein mann schneidet äste von bäumen .\n",
      "Tgt predicted: <s> ein mann in einem . . </s> </s> </s> </s>\n",
      "Bleu score:    0.0\n",
      "------------------------------------------------------------\n",
      "Example n°7:\n",
      "\n",
      "Src sentence:  a child is splashing in the water\n",
      "Tgt sentence:  ein kind planscht im wasser .\n",
      "Tgt predicted: <s> ein mann in einem . . . </s> </s> </s>\n",
      "Bleu score:    0.0\n",
      "------------------------------------------------------------\n",
      "Example n°8:\n",
      "\n",
      "Src sentence:  a pretty woman plays a harpsichord .\n",
      "Tgt sentence:  eine schöne frau spielt auf einer harfe .\n",
      "Tgt predicted: <s> ein mann in einem einem . . </s> </s> </s>\n",
      "Bleu score:    0.0\n",
      "------------------------------------------------------------\n",
      "Example n°9:\n",
      "\n",
      "Src sentence:  the young lady is looking at the pizza .\n",
      "Tgt sentence:  die junge dame sieht auf die pizza .\n",
      "Tgt predicted: <s> ein ein in auf einem . . . </s> </s>\n",
      "Bleu score:    0.0\n",
      "------------------------------------------------------------\n",
      "Example n°10:\n",
      "\n",
      "Src sentence:  people sit inside a train .\n",
      "Tgt sentence:  leute sitzen in einem zug .\n",
      "Tgt predicted: <s> ein mann in einem . . </s> </s> </s> </s>\n",
      "Bleu score:    0.0\n",
      "------------------------------------------------------------\n",
      "Example n°11:\n",
      "\n",
      "Src sentence:  a toddler is cooking with another person .\n",
      "Tgt sentence:  ein kleines kind kocht mit einer anderen person .\n",
      "Tgt predicted: <s> ein ein mann einem einem . . </s> </s> </s>\n",
      "Bleu score:    0.0\n",
      "------------------------------------------------------------\n",
      "Example n°12:\n",
      "\n",
      "Src sentence:  a man cooking food on the stove .\n",
      "Tgt sentence:  ein mann bereitet am herd essen zu .\n",
      "Tgt predicted: <s> ein ein in auf einem . . </s> </s> </s>\n",
      "Bleu score:    0.0\n",
      "------------------------------------------------------------\n",
      "Example n°13:\n",
      "\n",
      "Src sentence:  a large group of people fill a street .\n",
      "Tgt sentence:  eine große menschenmenge füllt eine straße .\n",
      "Tgt predicted: <s> ein ein mann auf einem . . . </s> </s>\n",
      "Bleu score:    0.0\n",
      "------------------------------------------------------------\n",
      "Example n°14:\n",
      "\n",
      "Src sentence:  a man on a tag line going into the water .\n",
      "Tgt sentence:  ein mann an einem halteseil geht ins wasser .\n",
      "Tgt predicted: <s> ein ein mann in einem einem . . . </s>\n",
      "Bleu score:    0.0\n",
      "------------------------------------------------------------\n",
      "Example n°15:\n",
      "\n",
      "Src sentence:  a car parked at the beach .\n",
      "Tgt sentence:  ein am strand geparktes auto .\n",
      "Tgt predicted: <s> ein mann in auf . . . </s> </s> </s>\n",
      "Bleu score:    0.0\n",
      "------------------------------------------------------------\n"
     ]
    }
   ],
   "source": [
    "BLEU_set(dataset_MT, idx, preds, 'test', samples=15)"
   ]
  },
  {
   "cell_type": "markdown",
   "metadata": {},
   "source": [
    "#### Running the decoder to get CoVe Embedding"
   ]
  },
  {
   "cell_type": "code",
   "execution_count": 16,
   "metadata": {},
   "outputs": [
    {
     "name": "stdout",
     "output_type": "stream",
     "text": [
      "Restore graph from save_run/MT_S/run1\n",
      "INFO:tensorflow:Restoring parameters from save_run/MT_S/run1\n",
      "Graph restored!\n"
     ]
    }
   ],
   "source": [
    "idx = np.arange(dataset_MT.data.get_length_set('test')) # predict whole set at once\n",
    "preds = nmt_infer.infer(dataset_MT.data.data_tok['test'], idx, restore_path = infer_params['save_path'])"
   ]
  },
  {
   "cell_type": "code",
   "execution_count": 17,
   "metadata": {},
   "outputs": [
    {
     "name": "stdout",
     "output_type": "stream",
     "text": [
      "Overall BLEU-4 on 181 sentences: 0.0144\n",
      "------------------------------------------------------------\n",
      "Example n°1:\n",
      "\n",
      "Src sentence:  people are fixing the roof of a house .\n",
      "Tgt sentence:  leute reparieren das dach eines hauses .\n",
      "Tgt predicted: <s> ein mann in auf einem . . </s> </s> </s>\n",
      "Bleu score:    0.0\n",
      "------------------------------------------------------------\n",
      "Example n°2:\n",
      "\n",
      "Src sentence:  a group of people standing in front of an igloo .\n",
      "Tgt sentence:  eine gruppe von menschen steht vor einem iglu .\n",
      "Tgt predicted: <s> ein ein mann auf einem einem . . . </s>\n",
      "Bleu score:    0.0\n",
      "------------------------------------------------------------\n"
     ]
    }
   ],
   "source": [
    "BLEU_set(dataset_MT, idx, preds, 'test', samples=2)"
   ]
  },
  {
   "cell_type": "code",
   "execution_count": 18,
   "metadata": {},
   "outputs": [
    {
     "name": "stdout",
     "output_type": "stream",
     "text": [
      "Restore graph from save_run/MT_S/run1\n",
      "INFO:tensorflow:Restoring parameters from save_run/MT_S/run1\n",
      "Graph restored!\n"
     ]
    }
   ],
   "source": [
    "emb = nmt_infer.CoVe(dataset_MT.data.data_tok['test'], idx, restore_path=infer_params['save_path'], with_emb=True) # with_emb to add or not original embeddings (GloVe+char emb)"
   ]
  },
  {
   "cell_type": "markdown",
   "metadata": {},
   "source": [
    "Verifying the number of tokens is matching the non-zero embedding outputed by the model.\n",
    "Sentence 0 has 9 tokens while sentence 1 has 11 tokens."
   ]
  },
  {
   "cell_type": "code",
   "execution_count": 26,
   "metadata": {},
   "outputs": [
    {
     "data": {
      "text/plain": [
       "(181, 50, 1000)"
      ]
     },
     "execution_count": 26,
     "metadata": {},
     "output_type": "execute_result"
    }
   ],
   "source": [
    "emb.shape"
   ]
  },
  {
   "cell_type": "code",
   "execution_count": 24,
   "metadata": {},
   "outputs": [
    {
     "data": {
      "text/plain": [
       "9"
      ]
     },
     "execution_count": 24,
     "metadata": {},
     "output_type": "execute_result"
    }
   ],
   "source": [
    "((emb[0]!=0).sum(axis=1)==1000).sum()"
   ]
  },
  {
   "cell_type": "code",
   "execution_count": 25,
   "metadata": {},
   "outputs": [
    {
     "data": {
      "text/plain": [
       "11"
      ]
     },
     "execution_count": 25,
     "metadata": {},
     "output_type": "execute_result"
    }
   ],
   "source": [
    "((emb[1]!=0).sum(axis=1)==1000).sum()"
   ]
  },
  {
   "cell_type": "code",
   "execution_count": null,
   "metadata": {},
   "outputs": [],
   "source": []
  }
 ],
 "metadata": {
  "kernelspec": {
   "display_name": "Python (tf_1_8)",
   "language": "python",
   "name": "tf_1_8"
  },
  "language_info": {
   "codemirror_mode": {
    "name": "ipython",
    "version": 3
   },
   "file_extension": ".py",
   "mimetype": "text/x-python",
   "name": "python",
   "nbconvert_exporter": "python",
   "pygments_lexer": "ipython3",
   "version": "3.6.7"
  }
 },
 "nbformat": 4,
 "nbformat_minor": 2
}
